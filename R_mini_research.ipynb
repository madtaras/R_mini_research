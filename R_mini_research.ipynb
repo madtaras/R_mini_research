{
 "cells": [
  {
   "cell_type": "code",
   "execution_count": 7,
   "metadata": {},
   "outputs": [],
   "source": [
    "red_examiner_oral <- c(90, 82.5, 89, 82.5, 75, 85, 72.5, 75.8, 62.5, 70, 60, 52.5, 60, 50)\n",
    "red_examiner_written <- c(85.75, 71, 68, 67.75, 62.25, 60, 53.75, 51.75, 49.75, 45.5, 34, 33, 24.25, 21.75)\n",
    "\n",
    "white_examiner_oral <- c(92, 98, 95, 84, 93, 95, 90, 93, 78, 91, 91, 93, 80, 91, 87, 87, 83, 70, 73, 81, 75, 63, 80, 68, 62, 77, 57, 57, 38, 48, 32)\n",
    "white_examiner_written <- c(87.75, 84.25, 81, 80.25, 77.75, 76.75, 75.25, 74.75, 72, 69.25, 67.75, 67.5, 65.75, 64.25, 57, 56.25, 55.5, 53.75, 52.75, 50, 47.75, 46.75, 45.75, 45.75, 42.75, 42, 34.5, 28, 17.25, 13, 9)"
   ]
  },
  {
   "cell_type": "code",
   "execution_count": 9,
   "metadata": {},
   "outputs": [
    {
     "name": "stdout",
     "output_type": "stream",
     "text": [
      "-19.91429\n",
      "-21.29032"
     ]
    }
   ],
   "source": [
    "cat(mean(red_examiner_written - red_examiner_oral))\n",
    "cat(\"\\n\")\n",
    "cat(mean(white_examiner_written - white_examiner_oral))"
   ]
  },
  {
   "cell_type": "code",
   "execution_count": null,
   "metadata": {},
   "outputs": [],
   "source": []
  },
  {
   "cell_type": "code",
   "execution_count": null,
   "metadata": {},
   "outputs": [],
   "source": []
  }
 ],
 "metadata": {
  "kernelspec": {
   "display_name": "R",
   "language": "R",
   "name": "ir"
  },
  "language_info": {
   "codemirror_mode": "r",
   "file_extension": ".r",
   "mimetype": "text/x-r-source",
   "name": "R",
   "pygments_lexer": "r",
   "version": "3.4.1"
  }
 },
 "nbformat": 4,
 "nbformat_minor": 2
}
