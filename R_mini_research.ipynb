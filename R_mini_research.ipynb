{
 "cells": [
  {
   "cell_type": "markdown",
   "metadata": {},
   "source": [
    "# R_mini_research\n",
    "## Batsenko & Mazurkevych\n",
    "\n",
    "First of all, we collect the data.  \n",
    "For hypothesis testing, we decided to use t-test which was introduced to us in lecture 14.  \n",
    "We've picked t-test because we don't know μ and σ.  \n",
    "We used t-test because such data taken from grades should have a normal distribution, as ZNO does have :)  \n",
    "\n",
    "If the p-value is less than 0.05, we reject the null hypothesis that there's no difference between the means and conclude that a significant difference does exist. If the p-value is larger than 0.05, we cannot conclude that a significant difference exists.\n",
    "\n",
    "We got p-value equal to 0.3047\n",
    "\n",
    "Conclusion: we cannot conclude that a significant difference exists, so white examiner isn't biased."
   ]
  },
  {
   "cell_type": "code",
   "execution_count": 11,
   "metadata": {},
   "outputs": [],
   "source": [
    "library(BSDA)\n",
    "\n",
    "red_examiner_oral <- c(90, 82.5, 89, 82.5, 75, 85, 72.5, 75.8, 62.5, 70, 60, 52.5, 60, 50)\n",
    "red_examiner_written <- c(85.75, 71, 68, 67.75, 62.25, 60, 53.75, 51.75, 49.75, 45.5, 34, 33, 24.25, 21.75)\n",
    "\n",
    "white_examiner_oral <- c(92, 98, 95, 84, 93, 95, 90, 93, 78, 91, 91, 93, 80, 91, 87, 87, 83, 70, 73, 81, 75, 63, 80, 68, 62, 77, 57, 57, 38, 48, 32)\n",
    "white_examiner_written <- c(87.75, 84.25, 81, 80.25, 77.75, 76.75, 75.25, 74.75, 72, 69.25, 67.75, 67.5, 65.75, 64.25, 57, 56.25, 55.5, 53.75, 52.75, 50, 47.75, 46.75, 45.75, 45.75, 42.75, 42, 34.5, 28, 17.25, 13, 9)"
   ]
  },
  {
   "cell_type": "code",
   "execution_count": 12,
   "metadata": {},
   "outputs": [
    {
     "name": "stdout",
     "output_type": "stream",
     "text": [
      "Red examiner mean: -19.91429\n",
      "White examiner mean: -21.29032"
     ]
    }
   ],
   "source": [
    "cat(\"Red examiner mean: \")\n",
    "cat(mean(red_examiner_written - red_examiner_oral))\n",
    "cat(\"\\nWhite examiner mean: \")\n",
    "cat(mean(white_examiner_written - white_examiner_oral))"
   ]
  },
  {
   "cell_type": "code",
   "execution_count": 13,
   "metadata": {},
   "outputs": [
    {
     "data": {
      "text/plain": [
       "\n",
       "\tWelch Two Sample t-test\n",
       "\n",
       "data:  x and y\n",
       "t = 0.51723, df = 25.929, p-value = 0.3047\n",
       "alternative hypothesis: true difference in means is greater than 0\n",
       "95 percent confidence interval:\n",
       " -3.162079       Inf\n",
       "sample estimates:\n",
       "mean of x mean of y \n",
       "-19.91429 -21.29032 \n"
      ]
     },
     "metadata": {},
     "output_type": "display_data"
    }
   ],
   "source": [
    "x <- red_examiner_written - red_examiner_oral\n",
    "y <- white_examiner_written - white_examiner_oral\n",
    "\n",
    "t.test(x, y, alt=\"g\")"
   ]
  },
  {
   "cell_type": "code",
   "execution_count": null,
   "metadata": {
    "scrolled": false
   },
   "outputs": [],
   "source": []
  },
  {
   "cell_type": "code",
   "execution_count": null,
   "metadata": {},
   "outputs": [],
   "source": []
  }
 ],
 "metadata": {
  "kernelspec": {
   "display_name": "R",
   "language": "R",
   "name": "ir"
  },
  "language_info": {
   "codemirror_mode": "r",
   "file_extension": ".r",
   "mimetype": "text/x-r-source",
   "name": "R",
   "pygments_lexer": "r",
   "version": "3.4.1"
  }
 },
 "nbformat": 4,
 "nbformat_minor": 2
}
